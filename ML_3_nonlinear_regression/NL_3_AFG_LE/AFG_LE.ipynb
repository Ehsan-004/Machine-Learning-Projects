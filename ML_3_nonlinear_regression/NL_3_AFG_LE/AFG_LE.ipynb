{
 "cells": [
  {
   "cell_type": "code",
   "execution_count": 2,
   "id": "52d09f6b-a191-47b0-9ddc-2e498707a25e",
   "metadata": {},
   "outputs": [],
   "source": [
    "import matplotlib.pyplot as plt\n",
    "import numpy as np\n",
    "from pandas import read_csv"
   ]
  },
  {
   "cell_type": "code",
   "execution_count": 3,
   "id": "b9b3ce96-b844-43d7-93a5-32e3bbdd0876",
   "metadata": {},
   "outputs": [
    {
     "data": {
      "text/html": [
       "<div>\n",
       "<style scoped>\n",
       "    .dataframe tbody tr th:only-of-type {\n",
       "        vertical-align: middle;\n",
       "    }\n",
       "\n",
       "    .dataframe tbody tr th {\n",
       "        vertical-align: top;\n",
       "    }\n",
       "\n",
       "    .dataframe thead th {\n",
       "        text-align: right;\n",
       "    }\n",
       "</style>\n",
       "<table border=\"1\" class=\"dataframe\">\n",
       "  <thead>\n",
       "    <tr style=\"text-align: right;\">\n",
       "      <th></th>\n",
       "      <th>Country Name</th>\n",
       "      <th>Country Code</th>\n",
       "      <th>Region</th>\n",
       "      <th>IncomeGroup</th>\n",
       "      <th>Year</th>\n",
       "      <th>Birth rate, crude (per 1,000 people)</th>\n",
       "      <th>Death rate, crude (per 1,000 people)</th>\n",
       "      <th>Electric power consumption (kWh per capita)</th>\n",
       "      <th>GDP (USD)</th>\n",
       "      <th>GDP per capita (USD)</th>\n",
       "      <th>Individuals using the Internet (% of population)</th>\n",
       "      <th>Infant mortality rate (per 1,000 live births)</th>\n",
       "      <th>Life expectancy at birth (years)</th>\n",
       "      <th>Population density (people per sq. km of land area)</th>\n",
       "      <th>Unemployment (% of total labor force) (modeled ILO estimate)</th>\n",
       "    </tr>\n",
       "  </thead>\n",
       "  <tbody>\n",
       "    <tr>\n",
       "      <th>0</th>\n",
       "      <td>Afghanistan</td>\n",
       "      <td>AFG</td>\n",
       "      <td>South Asia</td>\n",
       "      <td>Low income</td>\n",
       "      <td>2018</td>\n",
       "      <td>NaN</td>\n",
       "      <td>NaN</td>\n",
       "      <td>NaN</td>\n",
       "      <td>1.936300e+10</td>\n",
       "      <td>520.897</td>\n",
       "      <td>NaN</td>\n",
       "      <td>47.9</td>\n",
       "      <td>NaN</td>\n",
       "      <td>56.9378</td>\n",
       "      <td>1.542</td>\n",
       "    </tr>\n",
       "    <tr>\n",
       "      <th>1</th>\n",
       "      <td>Afghanistan</td>\n",
       "      <td>AFG</td>\n",
       "      <td>South Asia</td>\n",
       "      <td>Low income</td>\n",
       "      <td>2017</td>\n",
       "      <td>33.211</td>\n",
       "      <td>6.575</td>\n",
       "      <td>NaN</td>\n",
       "      <td>2.019180e+10</td>\n",
       "      <td>556.302</td>\n",
       "      <td>13.50</td>\n",
       "      <td>49.5</td>\n",
       "      <td>64.130</td>\n",
       "      <td>55.5960</td>\n",
       "      <td>1.559</td>\n",
       "    </tr>\n",
       "    <tr>\n",
       "      <th>2</th>\n",
       "      <td>Afghanistan</td>\n",
       "      <td>AFG</td>\n",
       "      <td>South Asia</td>\n",
       "      <td>Low income</td>\n",
       "      <td>2016</td>\n",
       "      <td>33.981</td>\n",
       "      <td>6.742</td>\n",
       "      <td>NaN</td>\n",
       "      <td>1.936260e+10</td>\n",
       "      <td>547.228</td>\n",
       "      <td>11.20</td>\n",
       "      <td>51.2</td>\n",
       "      <td>63.763</td>\n",
       "      <td>54.1971</td>\n",
       "      <td>1.634</td>\n",
       "    </tr>\n",
       "    <tr>\n",
       "      <th>3</th>\n",
       "      <td>Afghanistan</td>\n",
       "      <td>AFG</td>\n",
       "      <td>South Asia</td>\n",
       "      <td>Low income</td>\n",
       "      <td>2015</td>\n",
       "      <td>34.809</td>\n",
       "      <td>6.929</td>\n",
       "      <td>NaN</td>\n",
       "      <td>1.990710e+10</td>\n",
       "      <td>578.466</td>\n",
       "      <td>8.26</td>\n",
       "      <td>53.1</td>\n",
       "      <td>63.377</td>\n",
       "      <td>52.7121</td>\n",
       "      <td>1.679</td>\n",
       "    </tr>\n",
       "    <tr>\n",
       "      <th>4</th>\n",
       "      <td>Afghanistan</td>\n",
       "      <td>AFG</td>\n",
       "      <td>South Asia</td>\n",
       "      <td>Low income</td>\n",
       "      <td>2014</td>\n",
       "      <td>35.706</td>\n",
       "      <td>7.141</td>\n",
       "      <td>NaN</td>\n",
       "      <td>2.048490e+10</td>\n",
       "      <td>613.856</td>\n",
       "      <td>7.00</td>\n",
       "      <td>55.1</td>\n",
       "      <td>62.966</td>\n",
       "      <td>51.1148</td>\n",
       "      <td>1.735</td>\n",
       "    </tr>\n",
       "  </tbody>\n",
       "</table>\n",
       "</div>"
      ],
      "text/plain": [
       "  Country Name Country Code      Region IncomeGroup  Year  \\\n",
       "0  Afghanistan          AFG  South Asia  Low income  2018   \n",
       "1  Afghanistan          AFG  South Asia  Low income  2017   \n",
       "2  Afghanistan          AFG  South Asia  Low income  2016   \n",
       "3  Afghanistan          AFG  South Asia  Low income  2015   \n",
       "4  Afghanistan          AFG  South Asia  Low income  2014   \n",
       "\n",
       "   Birth rate, crude (per 1,000 people)  Death rate, crude (per 1,000 people)  \\\n",
       "0                                   NaN                                   NaN   \n",
       "1                                33.211                                 6.575   \n",
       "2                                33.981                                 6.742   \n",
       "3                                34.809                                 6.929   \n",
       "4                                35.706                                 7.141   \n",
       "\n",
       "   Electric power consumption (kWh per capita)     GDP (USD)  \\\n",
       "0                                          NaN  1.936300e+10   \n",
       "1                                          NaN  2.019180e+10   \n",
       "2                                          NaN  1.936260e+10   \n",
       "3                                          NaN  1.990710e+10   \n",
       "4                                          NaN  2.048490e+10   \n",
       "\n",
       "   GDP per capita (USD)  Individuals using the Internet (% of population)  \\\n",
       "0               520.897                                               NaN   \n",
       "1               556.302                                             13.50   \n",
       "2               547.228                                             11.20   \n",
       "3               578.466                                              8.26   \n",
       "4               613.856                                              7.00   \n",
       "\n",
       "   Infant mortality rate (per 1,000 live births)  \\\n",
       "0                                           47.9   \n",
       "1                                           49.5   \n",
       "2                                           51.2   \n",
       "3                                           53.1   \n",
       "4                                           55.1   \n",
       "\n",
       "   Life expectancy at birth (years)  \\\n",
       "0                               NaN   \n",
       "1                            64.130   \n",
       "2                            63.763   \n",
       "3                            63.377   \n",
       "4                            62.966   \n",
       "\n",
       "   Population density (people per sq. km of land area)  \\\n",
       "0                                            56.9378     \n",
       "1                                            55.5960     \n",
       "2                                            54.1971     \n",
       "3                                            52.7121     \n",
       "4                                            51.1148     \n",
       "\n",
       "   Unemployment (% of total labor force) (modeled ILO estimate)  \n",
       "0                                              1.542             \n",
       "1                                              1.559             \n",
       "2                                              1.634             \n",
       "3                                              1.679             \n",
       "4                                              1.735             "
      ]
     },
     "execution_count": 3,
     "metadata": {},
     "output_type": "execute_result"
    }
   ],
   "source": [
    "df = read_csv(\"../../datasets/AFG_DATA.csv\")\n",
    "df.head()"
   ]
  },
  {
   "cell_type": "code",
   "execution_count": 4,
   "id": "370b889f-fb80-4e2c-850b-8e33b9d3c90a",
   "metadata": {
    "scrolled": true
   },
   "outputs": [
    {
     "data": {
      "text/html": [
       "<div>\n",
       "<style scoped>\n",
       "    .dataframe tbody tr th:only-of-type {\n",
       "        vertical-align: middle;\n",
       "    }\n",
       "\n",
       "    .dataframe tbody tr th {\n",
       "        vertical-align: top;\n",
       "    }\n",
       "\n",
       "    .dataframe thead th {\n",
       "        text-align: right;\n",
       "    }\n",
       "</style>\n",
       "<table border=\"1\" class=\"dataframe\">\n",
       "  <thead>\n",
       "    <tr style=\"text-align: right;\">\n",
       "      <th></th>\n",
       "      <th>Year</th>\n",
       "      <th>Life expectancy at birth (years)</th>\n",
       "    </tr>\n",
       "  </thead>\n",
       "  <tbody>\n",
       "    <tr>\n",
       "      <th>count</th>\n",
       "      <td>59.000000</td>\n",
       "      <td>58.000000</td>\n",
       "    </tr>\n",
       "    <tr>\n",
       "      <th>mean</th>\n",
       "      <td>1989.000000</td>\n",
       "      <td>48.663983</td>\n",
       "    </tr>\n",
       "    <tr>\n",
       "      <th>std</th>\n",
       "      <td>17.175564</td>\n",
       "      <td>9.879001</td>\n",
       "    </tr>\n",
       "    <tr>\n",
       "      <th>min</th>\n",
       "      <td>1960.000000</td>\n",
       "      <td>32.446000</td>\n",
       "    </tr>\n",
       "    <tr>\n",
       "      <th>25%</th>\n",
       "      <td>1974.500000</td>\n",
       "      <td>39.700500</td>\n",
       "    </tr>\n",
       "    <tr>\n",
       "      <th>50%</th>\n",
       "      <td>1989.000000</td>\n",
       "      <td>49.285000</td>\n",
       "    </tr>\n",
       "    <tr>\n",
       "      <th>75%</th>\n",
       "      <td>2003.500000</td>\n",
       "      <td>57.149250</td>\n",
       "    </tr>\n",
       "    <tr>\n",
       "      <th>max</th>\n",
       "      <td>2018.000000</td>\n",
       "      <td>64.130000</td>\n",
       "    </tr>\n",
       "  </tbody>\n",
       "</table>\n",
       "</div>"
      ],
      "text/plain": [
       "              Year  Life expectancy at birth (years)\n",
       "count    59.000000                         58.000000\n",
       "mean   1989.000000                         48.663983\n",
       "std      17.175564                          9.879001\n",
       "min    1960.000000                         32.446000\n",
       "25%    1974.500000                         39.700500\n",
       "50%    1989.000000                         49.285000\n",
       "75%    2003.500000                         57.149250\n",
       "max    2018.000000                         64.130000"
      ]
     },
     "execution_count": 4,
     "metadata": {},
     "output_type": "execute_result"
    }
   ],
   "source": [
    "cdf = df[['Year', 'Life expectancy at birth (years)']]\n",
    "cdf.describe()"
   ]
  },
  {
   "cell_type": "code",
   "execution_count": 5,
   "id": "bca711f4-e7a1-4ba6-a5f8-520a8b3b21bb",
   "metadata": {
    "scrolled": true
   },
   "outputs": [
    {
     "data": {
      "image/png": "[encoded data removed]",
      "text/plain": [
       "<Figure size 640x480 with 1 Axes>"
      ]
     },
     "metadata": {},
     "output_type": "display_data"
    }
   ],
   "source": [
    "plt.scatter(df['Year'], cdf['Life expectancy at birth (years)'])\n",
    "plt.show()"
   ]
  },
  {
   "cell_type": "code",
   "execution_count": 6,
   "id": "c51459d1-d480-45b7-a092-5c427adb7d5d",
   "metadata": {},
   "outputs": [
    {
     "data": {
      "text/plain": [
       "array([64.13 , 63.763, 63.377, 62.966, 62.054, 61.028, 59.93 , 59.375,\n",
       "       58.826, 58.29 , 57.772, 57.271, 56.784, 56.308, 55.841, 55.376,\n",
       "       54.906, 54.424, 53.924, 53.398, 52.842, 52.256, 51.641, 50.331,\n",
       "       49.64 , 48.93 , 47.486, 46.04 , 45.324, 44.617, 43.923, 43.244,\n",
       "       42.585, 41.32 , 40.715, 40.128, 39.558, 39.003, 38.461, 37.93 ,\n",
       "       37.409, 36.9  , 35.914, 34.948, 34.463, 33.971, 33.471, 32.446])"
      ]
     },
     "execution_count": 6,
     "metadata": {},
     "output_type": "execute_result"
    }
   ],
   "source": [
    "from sklearn.preprocessing import PolynomialFeatures\n",
    "\n",
    "msk = np.random.rand(len(cdf)) < 0.8\n",
    "train_data = cdf[msk]\n",
    "test_data = cdf[~msk]\n",
    "\n",
    "train_x = np.asanyarray(train_data['Year']).reshape(-1,1)\n",
    "train_y = np.asanyarray(train_data['Life expectancy at birth (years)'])\n",
    "\n",
    "train_x = np.delete(train_x, 0).reshape(-1,1)\n",
    "train_y = np.delete(train_y, 0)\n",
    "\n",
    "test_x = np.asanyarray(test_data['Year']).reshape(-1,1)\n",
    "test_y = np.asanyarray(test_data['Life expectancy at birth (years)'])\n",
    "\n",
    "poly = PolynomialFeatures(degree=3)\n",
    "train_x_poly = poly.fit_transform(train_x)\n",
    "train_y"
   ]
  },
  {
   "cell_type": "code",
   "execution_count": 7,
   "id": "6961927d-44a2-426c-ab9a-04110e360b49",
   "metadata": {},
   "outputs": [
    {
     "name": "stdout",
     "output_type": "stream",
     "text": [
      "[64.13  63.763 63.377 62.966 62.054 61.028 59.93  59.375 58.826 58.29\n",
      " 57.772 57.271 56.784 56.308 55.841 55.376 54.906 54.424 53.924 53.398\n",
      " 52.842 52.256 51.641 50.331 49.64  48.93  47.486 46.04  45.324 44.617\n",
      " 43.923 43.244 42.585 41.32  40.715 40.128 39.558 39.003 38.461 37.93\n",
      " 37.409 36.9   35.914 34.948 34.463 33.971 33.471 32.446]\n",
      "[ 0.00000000e+00 -1.29530043e+03  6.52647793e-01 -1.09559663e-04]\n",
      "856542.9759957787\n"
     ]
    }
   ],
   "source": [
    "from sklearn import linear_model\n",
    "\n",
    "print(train_y)\n",
    "clf = linear_model.LinearRegression()\n",
    "train_Y_ = clf.fit(train_x_poly, train_y)\n",
    "print(clf.coef_)\n",
    "print(clf.intercept_)"
   ]
  },
  {
   "cell_type": "code",
   "execution_count": 10,
   "id": "bc2a0d07-35c4-42ee-b123-a18788960e7d",
   "metadata": {},
   "outputs": [
    {
     "data": {
      "image/png": "[encoded data removed]",
      "text/plain": [
       "<Figure size 640x480 with 1 Axes>"
      ]
     },
     "metadata": {},
     "output_type": "display_data"
    }
   ],
   "source": [
    "xx = np.arange(min(cdf['Year']), max(cdf['Year'])+15).reshape(-1,1)\n",
    "yy = clf.predict(poly.transform(xx))\n",
    "\n",
    "plt.plot(xx, yy, label=\"predicted plot\")\n",
    "plt.plot(cdf['Year'], cdf['Life expectancy at birth (years)'], color='red', label=\"real data\")\n",
    "plt.xlabel(\"Year\")\n",
    "plt.ylabel(\"Life Expectency\")\n",
    "plt.legend(loc=\"lower right\")\n",
    "plt.show()"
   ]
  },
  {
   "cell_type": "code",
   "execution_count": 19,
   "id": "54b439c0-ed27-49fd-81cc-0a01f861ffe3",
   "metadata": {},
   "outputs": [
    {
     "name": "stdout",
     "output_type": "stream",
     "text": [
      "0.9991122078608806\n"
     ]
    }
   ],
   "source": [
    "from sklearn.metrics import r2_score\n",
    "\n",
    "test_x_poly = poly.fit_transform(test_x)\n",
    "test_y_ = clf.predict(test_x_poly)\n",
    "\n",
    "print(r2_score(test_y, test_y_))"
   ]
  }
 ],
 "metadata": {
  "kernelspec": {
   "display_name": "Python 3 (ipykernel)",
   "language": "python",
   "name": "python3"
  },
  "language_info": {
   "codemirror_mode": {
    "name": "ipython",
    "version": 3
   },
   "file_extension": ".py",
   "mimetype": "text/x-python",
   "name": "python",
   "nbconvert_exporter": "python",
   "pygments_lexer": "ipython3",
   "version": "3.12.0"
  }
 },
 "nbformat": 4,
 "nbformat_minor": 5
}
